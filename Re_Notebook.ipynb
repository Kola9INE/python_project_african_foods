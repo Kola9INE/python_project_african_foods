{
 "cells": [
  {
   "cell_type": "markdown",
   "id": "d5ee6e3b-2992-4c3f-9219-94680abd46f6",
   "metadata": {
    "tags": []
   },
   "source": [
    "## RESEARCH QUESTIONS:\n",
    "    * SHOW THE MIN, MAX AND MEAN PRICE OF COUNTRIES RECORDED IN THE DATASET, GROUP BY CURRENCY AND MARKET_TYPE.\n",
    "    * SHOW THE MOST PERFORMING PRODUCE BY TOTAL PRICE PER USER DEFINED COUNTRY\n",
    "    * SHOW THE DISTRIBUTION OF PRODUCE PER USER DEFINED COUNTRY\n",
    "    * VISUALIZE PRODUCE BY PRICE PERFORMANCE PER USER DEFINED COUNTRY"
   ]
  },
  {
   "cell_type": "code",
   "execution_count": 1,
   "id": "9c7118f1-5738-4a3a-91f0-c5bbc1fbb857",
   "metadata": {
    "tags": []
   },
   "outputs": [
    {
     "name": "stdout",
     "output_type": "stream",
     "text": [
      "Imported necessary libraries.\n"
     ]
    }
   ],
   "source": [
    "import pandas as pd, numpy as np\n",
    "import seaborn as sns, scipy as sp\n",
    "import statistics as stats, matplotlib.pyplot as plt\n",
    "\n",
    "print ('Imported necessary libraries.')"
   ]
  },
  {
   "cell_type": "markdown",
   "id": "7625d5e3-2e21-4db3-839c-35eecdf735ca",
   "metadata": {},
   "source": [
    "# Transforming dataset"
   ]
  },
  {
   "cell_type": "code",
   "execution_count": 2,
   "id": "9658b68b-3940-4a7d-bd4a-1df4725e41a5",
   "metadata": {
    "tags": []
   },
   "outputs": [
    {
     "data": {
      "text/html": [
       "<div>\n",
       "<style scoped>\n",
       "    .dataframe tbody tr th:only-of-type {\n",
       "        vertical-align: middle;\n",
       "    }\n",
       "\n",
       "    .dataframe tbody tr th {\n",
       "        vertical-align: top;\n",
       "    }\n",
       "\n",
       "    .dataframe thead th {\n",
       "        text-align: right;\n",
       "    }\n",
       "</style>\n",
       "<table border=\"1\" class=\"dataframe\">\n",
       "  <thead>\n",
       "    <tr style=\"text-align: right;\">\n",
       "      <th></th>\n",
       "      <th>Unnamed: 0</th>\n",
       "      <th>country_id</th>\n",
       "      <th>country</th>\n",
       "      <th>state_id</th>\n",
       "      <th>state</th>\n",
       "      <th>market_id</th>\n",
       "      <th>market</th>\n",
       "      <th>produce_id</th>\n",
       "      <th>produce</th>\n",
       "      <th>currency_id</th>\n",
       "      <th>currency</th>\n",
       "      <th>pt_id</th>\n",
       "      <th>market_type</th>\n",
       "      <th>um_unit_id</th>\n",
       "      <th>quantity</th>\n",
       "      <th>month</th>\n",
       "      <th>year</th>\n",
       "      <th>price</th>\n",
       "      <th>mp_commoditysource</th>\n",
       "    </tr>\n",
       "  </thead>\n",
       "  <tbody>\n",
       "    <tr>\n",
       "      <th>0</th>\n",
       "      <td>15427</td>\n",
       "      <td>4.0</td>\n",
       "      <td>Algeria</td>\n",
       "      <td>344</td>\n",
       "      <td>Alger</td>\n",
       "      <td>1794</td>\n",
       "      <td>Algiers</td>\n",
       "      <td>52</td>\n",
       "      <td>Rice - Retail</td>\n",
       "      <td>0.0</td>\n",
       "      <td>DZD</td>\n",
       "      <td>15</td>\n",
       "      <td>Retail</td>\n",
       "      <td>5</td>\n",
       "      <td>KG</td>\n",
       "      <td>4</td>\n",
       "      <td>2015</td>\n",
       "      <td>90.0</td>\n",
       "      <td>NaN</td>\n",
       "    </tr>\n",
       "    <tr>\n",
       "      <th>1</th>\n",
       "      <td>15428</td>\n",
       "      <td>4.0</td>\n",
       "      <td>Algeria</td>\n",
       "      <td>344</td>\n",
       "      <td>Alger</td>\n",
       "      <td>1794</td>\n",
       "      <td>Algiers</td>\n",
       "      <td>52</td>\n",
       "      <td>Rice - Retail</td>\n",
       "      <td>0.0</td>\n",
       "      <td>DZD</td>\n",
       "      <td>15</td>\n",
       "      <td>Retail</td>\n",
       "      <td>5</td>\n",
       "      <td>KG</td>\n",
       "      <td>5</td>\n",
       "      <td>2015</td>\n",
       "      <td>96.0</td>\n",
       "      <td>NaN</td>\n",
       "    </tr>\n",
       "    <tr>\n",
       "      <th>2</th>\n",
       "      <td>15429</td>\n",
       "      <td>4.0</td>\n",
       "      <td>Algeria</td>\n",
       "      <td>344</td>\n",
       "      <td>Alger</td>\n",
       "      <td>1794</td>\n",
       "      <td>Algiers</td>\n",
       "      <td>52</td>\n",
       "      <td>Rice - Retail</td>\n",
       "      <td>0.0</td>\n",
       "      <td>DZD</td>\n",
       "      <td>15</td>\n",
       "      <td>Retail</td>\n",
       "      <td>5</td>\n",
       "      <td>KG</td>\n",
       "      <td>6</td>\n",
       "      <td>2015</td>\n",
       "      <td>96.0</td>\n",
       "      <td>NaN</td>\n",
       "    </tr>\n",
       "    <tr>\n",
       "      <th>3</th>\n",
       "      <td>15430</td>\n",
       "      <td>4.0</td>\n",
       "      <td>Algeria</td>\n",
       "      <td>344</td>\n",
       "      <td>Alger</td>\n",
       "      <td>1794</td>\n",
       "      <td>Algiers</td>\n",
       "      <td>52</td>\n",
       "      <td>Rice - Retail</td>\n",
       "      <td>0.0</td>\n",
       "      <td>DZD</td>\n",
       "      <td>15</td>\n",
       "      <td>Retail</td>\n",
       "      <td>5</td>\n",
       "      <td>KG</td>\n",
       "      <td>7</td>\n",
       "      <td>2015</td>\n",
       "      <td>83.0</td>\n",
       "      <td>NaN</td>\n",
       "    </tr>\n",
       "    <tr>\n",
       "      <th>4</th>\n",
       "      <td>15431</td>\n",
       "      <td>4.0</td>\n",
       "      <td>Algeria</td>\n",
       "      <td>344</td>\n",
       "      <td>Alger</td>\n",
       "      <td>1794</td>\n",
       "      <td>Algiers</td>\n",
       "      <td>52</td>\n",
       "      <td>Rice - Retail</td>\n",
       "      <td>0.0</td>\n",
       "      <td>DZD</td>\n",
       "      <td>15</td>\n",
       "      <td>Retail</td>\n",
       "      <td>5</td>\n",
       "      <td>KG</td>\n",
       "      <td>8</td>\n",
       "      <td>2015</td>\n",
       "      <td>80.0</td>\n",
       "      <td>NaN</td>\n",
       "    </tr>\n",
       "  </tbody>\n",
       "</table>\n",
       "</div>"
      ],
      "text/plain": [
       "   Unnamed: 0  country_id  country  state_id  state  market_id   market  \\\n",
       "0       15427         4.0  Algeria       344  Alger       1794  Algiers   \n",
       "1       15428         4.0  Algeria       344  Alger       1794  Algiers   \n",
       "2       15429         4.0  Algeria       344  Alger       1794  Algiers   \n",
       "3       15430         4.0  Algeria       344  Alger       1794  Algiers   \n",
       "4       15431         4.0  Algeria       344  Alger       1794  Algiers   \n",
       "\n",
       "   produce_id        produce  currency_id currency  pt_id market_type  \\\n",
       "0          52  Rice - Retail          0.0      DZD     15      Retail   \n",
       "1          52  Rice - Retail          0.0      DZD     15      Retail   \n",
       "2          52  Rice - Retail          0.0      DZD     15      Retail   \n",
       "3          52  Rice - Retail          0.0      DZD     15      Retail   \n",
       "4          52  Rice - Retail          0.0      DZD     15      Retail   \n",
       "\n",
       "   um_unit_id quantity  month  year  price  mp_commoditysource  \n",
       "0           5       KG      4  2015   90.0                 NaN  \n",
       "1           5       KG      5  2015   96.0                 NaN  \n",
       "2           5       KG      6  2015   96.0                 NaN  \n",
       "3           5       KG      7  2015   83.0                 NaN  \n",
       "4           5       KG      8  2015   80.0                 NaN  "
      ]
     },
     "execution_count": 2,
     "metadata": {},
     "output_type": "execute_result"
    }
   ],
   "source": [
    "# Extracting dataset\n",
    "\n",
    "path = 'datasets/africa_food_prices.csv'\n",
    "df = pd.read_csv(path)\n",
    "df.head()"
   ]
  },
  {
   "cell_type": "markdown",
   "id": "c17baaa4-20ff-44b0-b341-381b929500b4",
   "metadata": {},
   "source": [
    "* # RENAMING COLUMN"
   ]
  },
  {
   "cell_type": "code",
   "execution_count": 3,
   "id": "1dd4d15b-a994-4a90-b619-129b1374a676",
   "metadata": {
    "tags": []
   },
   "outputs": [
    {
     "data": {
      "text/plain": [
       "Index(['id', 'country_id', 'country', 'state_id', 'state', 'market_id',\n",
       "       'market', 'produce_id', 'produce', 'currency_id', 'currency', 'pt_id',\n",
       "       'market_type', 'um_unit_id', 'quantity', 'month', 'year', 'price',\n",
       "       'mp_commoditysource'],\n",
       "      dtype='object')"
      ]
     },
     "execution_count": 3,
     "metadata": {},
     "output_type": "execute_result"
    }
   ],
   "source": [
    "df.rename(columns = {'Unnamed: 0':'id'}, inplace = True)\n",
    "df.columns"
   ]
  },
  {
   "cell_type": "markdown",
   "id": "3036696f-aa7c-46b3-bfbe-ddbe7ff0d3da",
   "metadata": {
    "tags": []
   },
   "source": [
    "* # DECONGESTING DATASET AS WE DO NOT NEED SOME COLUMNS IN OUR ANALYSIS"
   ]
  },
  {
   "cell_type": "code",
   "execution_count": 4,
   "id": "9df4dfde-959a-4fac-8e33-29eca5bc9482",
   "metadata": {
    "tags": []
   },
   "outputs": [
    {
     "name": "stdout",
     "output_type": "stream",
     "text": [
      "Successful.\n"
     ]
    }
   ],
   "source": [
    "del df['country_id']\n",
    "del df['state_id']\n",
    "del df['market_id']\n",
    "del df['produce_id']\n",
    "del df['currency_id']\n",
    "del df['pt_id']\n",
    "del df['um_unit_id']\n",
    "del df['mp_commoditysource']\n",
    "\n",
    "print(\"Successful.\")"
   ]
  },
  {
   "cell_type": "code",
   "execution_count": 5,
   "id": "dd0d6449-7c88-4ec0-b23d-0ab26d579f3a",
   "metadata": {
    "tags": []
   },
   "outputs": [
    {
     "data": {
      "text/html": [
       "<div>\n",
       "<style scoped>\n",
       "    .dataframe tbody tr th:only-of-type {\n",
       "        vertical-align: middle;\n",
       "    }\n",
       "\n",
       "    .dataframe tbody tr th {\n",
       "        vertical-align: top;\n",
       "    }\n",
       "\n",
       "    .dataframe thead th {\n",
       "        text-align: right;\n",
       "    }\n",
       "</style>\n",
       "<table border=\"1\" class=\"dataframe\">\n",
       "  <thead>\n",
       "    <tr style=\"text-align: right;\">\n",
       "      <th></th>\n",
       "      <th>id</th>\n",
       "      <th>country</th>\n",
       "      <th>state</th>\n",
       "      <th>market</th>\n",
       "      <th>produce</th>\n",
       "      <th>currency</th>\n",
       "      <th>market_type</th>\n",
       "      <th>quantity</th>\n",
       "      <th>month</th>\n",
       "      <th>year</th>\n",
       "      <th>price</th>\n",
       "    </tr>\n",
       "  </thead>\n",
       "  <tbody>\n",
       "    <tr>\n",
       "      <th>0</th>\n",
       "      <td>15427</td>\n",
       "      <td>Algeria</td>\n",
       "      <td>Alger</td>\n",
       "      <td>Algiers</td>\n",
       "      <td>Rice - Retail</td>\n",
       "      <td>DZD</td>\n",
       "      <td>Retail</td>\n",
       "      <td>KG</td>\n",
       "      <td>4</td>\n",
       "      <td>2015</td>\n",
       "      <td>90.0</td>\n",
       "    </tr>\n",
       "    <tr>\n",
       "      <th>1</th>\n",
       "      <td>15428</td>\n",
       "      <td>Algeria</td>\n",
       "      <td>Alger</td>\n",
       "      <td>Algiers</td>\n",
       "      <td>Rice - Retail</td>\n",
       "      <td>DZD</td>\n",
       "      <td>Retail</td>\n",
       "      <td>KG</td>\n",
       "      <td>5</td>\n",
       "      <td>2015</td>\n",
       "      <td>96.0</td>\n",
       "    </tr>\n",
       "    <tr>\n",
       "      <th>2</th>\n",
       "      <td>15429</td>\n",
       "      <td>Algeria</td>\n",
       "      <td>Alger</td>\n",
       "      <td>Algiers</td>\n",
       "      <td>Rice - Retail</td>\n",
       "      <td>DZD</td>\n",
       "      <td>Retail</td>\n",
       "      <td>KG</td>\n",
       "      <td>6</td>\n",
       "      <td>2015</td>\n",
       "      <td>96.0</td>\n",
       "    </tr>\n",
       "    <tr>\n",
       "      <th>3</th>\n",
       "      <td>15430</td>\n",
       "      <td>Algeria</td>\n",
       "      <td>Alger</td>\n",
       "      <td>Algiers</td>\n",
       "      <td>Rice - Retail</td>\n",
       "      <td>DZD</td>\n",
       "      <td>Retail</td>\n",
       "      <td>KG</td>\n",
       "      <td>7</td>\n",
       "      <td>2015</td>\n",
       "      <td>83.0</td>\n",
       "    </tr>\n",
       "    <tr>\n",
       "      <th>4</th>\n",
       "      <td>15431</td>\n",
       "      <td>Algeria</td>\n",
       "      <td>Alger</td>\n",
       "      <td>Algiers</td>\n",
       "      <td>Rice - Retail</td>\n",
       "      <td>DZD</td>\n",
       "      <td>Retail</td>\n",
       "      <td>KG</td>\n",
       "      <td>8</td>\n",
       "      <td>2015</td>\n",
       "      <td>80.0</td>\n",
       "    </tr>\n",
       "  </tbody>\n",
       "</table>\n",
       "</div>"
      ],
      "text/plain": [
       "      id  country  state   market        produce currency market_type  \\\n",
       "0  15427  Algeria  Alger  Algiers  Rice - Retail      DZD      Retail   \n",
       "1  15428  Algeria  Alger  Algiers  Rice - Retail      DZD      Retail   \n",
       "2  15429  Algeria  Alger  Algiers  Rice - Retail      DZD      Retail   \n",
       "3  15430  Algeria  Alger  Algiers  Rice - Retail      DZD      Retail   \n",
       "4  15431  Algeria  Alger  Algiers  Rice - Retail      DZD      Retail   \n",
       "\n",
       "  quantity  month  year  price  \n",
       "0       KG      4  2015   90.0  \n",
       "1       KG      5  2015   96.0  \n",
       "2       KG      6  2015   96.0  \n",
       "3       KG      7  2015   83.0  \n",
       "4       KG      8  2015   80.0  "
      ]
     },
     "execution_count": 5,
     "metadata": {},
     "output_type": "execute_result"
    }
   ],
   "source": [
    "df.head()"
   ]
  },
  {
   "cell_type": "markdown",
   "id": "a16a5faa-f468-484c-8c88-a4e114e2aa54",
   "metadata": {
    "tags": []
   },
   "source": [
    "* # CHECKING DATA TYPES"
   ]
  },
  {
   "cell_type": "code",
   "execution_count": 6,
   "id": "c1c666a7-8a76-4add-968d-f616ae6efb9b",
   "metadata": {
    "tags": []
   },
   "outputs": [
    {
     "data": {
      "text/plain": [
       "id               int64\n",
       "country         object\n",
       "state           object\n",
       "market          object\n",
       "produce         object\n",
       "currency        object\n",
       "market_type     object\n",
       "quantity        object\n",
       "month            int64\n",
       "year             int64\n",
       "price          float64\n",
       "dtype: object"
      ]
     },
     "execution_count": 6,
     "metadata": {},
     "output_type": "execute_result"
    }
   ],
   "source": [
    "df.dtypes"
   ]
  },
  {
   "cell_type": "markdown",
   "id": "f7555a22-09aa-4834-961d-c8909c7b9d6a",
   "metadata": {},
   "source": [
    "* # WE DO NOT NEED SOME COLUMNS IN THEIR DEFAULT DATA TYPES."
   ]
  },
  {
   "cell_type": "code",
   "execution_count": 7,
   "id": "79946d72-1653-4ef3-bc02-e441652442d1",
   "metadata": {
    "tags": []
   },
   "outputs": [
    {
     "name": "stdout",
     "output_type": "stream",
     "text": [
      "Transformed columns id, month and year to string format\n",
      "We do not need to run any calculation on these columns.\n"
     ]
    }
   ],
   "source": [
    "df.id = df['id'].astype('str')\n",
    "df.month = df['month'].astype('str')\n",
    "df.year = df['year'].astype('str')\n",
    "\n",
    "print('Transformed columns id, month and year to string format\\nWe do not need to run any calculation on these columns.')"
   ]
  },
  {
   "cell_type": "markdown",
   "id": "73c0477b-a6a7-415b-bbd1-01107f57da2a",
   "metadata": {},
   "source": [
    "* # CREATING DATE COLUMN"
   ]
  },
  {
   "cell_type": "code",
   "execution_count": 8,
   "id": "5385af11-35f4-4f68-956d-b55627b8cfa5",
   "metadata": {
    "tags": []
   },
   "outputs": [],
   "source": [
    "df['day'] = '1'"
   ]
  },
  {
   "cell_type": "code",
   "execution_count": 9,
   "id": "26c62619-bdd0-499f-bf85-fba985825962",
   "metadata": {
    "tags": []
   },
   "outputs": [],
   "source": [
    "df['date'] = df['year']+ '-'+ df['month']+ '-'+df['day']"
   ]
  },
  {
   "cell_type": "code",
   "execution_count": 10,
   "id": "3fa7b6c4-cb4f-48ff-abc9-d33469db1d8e",
   "metadata": {
    "tags": []
   },
   "outputs": [
    {
     "data": {
      "text/plain": [
       "0         2015-4-1\n",
       "1         2015-5-1\n",
       "2         2015-6-1\n",
       "3         2015-7-1\n",
       "4         2015-8-1\n",
       "            ...   \n",
       "956774    2021-6-1\n",
       "956775    2021-6-1\n",
       "956776    2021-6-1\n",
       "956777    2021-6-1\n",
       "956778    2021-6-1\n",
       "Name: date, Length: 956779, dtype: object"
      ]
     },
     "execution_count": 10,
     "metadata": {},
     "output_type": "execute_result"
    }
   ],
   "source": [
    "df['date']"
   ]
  },
  {
   "cell_type": "code",
   "execution_count": 11,
   "id": "19477f67-8c6d-4e3a-99c1-09aaa5df2523",
   "metadata": {
    "tags": []
   },
   "outputs": [],
   "source": [
    "df['date'] = df['date'].apply(pd.to_datetime)"
   ]
  },
  {
   "cell_type": "markdown",
   "id": "f3d274c3-94d6-4c5e-be01-df93f7af5dc4",
   "metadata": {},
   "source": [
    "# FURTHER EXLORATION"
   ]
  },
  {
   "cell_type": "code",
   "execution_count": 12,
   "id": "7e6109f1-f369-43d8-8980-f4f5c676284f",
   "metadata": {},
   "outputs": [
    {
     "data": {
      "text/html": [
       "<div>\n",
       "<style scoped>\n",
       "    .dataframe tbody tr th:only-of-type {\n",
       "        vertical-align: middle;\n",
       "    }\n",
       "\n",
       "    .dataframe tbody tr th {\n",
       "        vertical-align: top;\n",
       "    }\n",
       "\n",
       "    .dataframe thead th {\n",
       "        text-align: right;\n",
       "    }\n",
       "</style>\n",
       "<table border=\"1\" class=\"dataframe\">\n",
       "  <thead>\n",
       "    <tr style=\"text-align: right;\">\n",
       "      <th></th>\n",
       "      <th>id</th>\n",
       "      <th>country</th>\n",
       "      <th>state</th>\n",
       "      <th>market</th>\n",
       "      <th>produce</th>\n",
       "      <th>currency</th>\n",
       "      <th>market_type</th>\n",
       "      <th>quantity</th>\n",
       "      <th>month</th>\n",
       "      <th>year</th>\n",
       "      <th>price</th>\n",
       "      <th>day</th>\n",
       "      <th>date</th>\n",
       "    </tr>\n",
       "  </thead>\n",
       "  <tbody>\n",
       "    <tr>\n",
       "      <th>0</th>\n",
       "      <td>15427</td>\n",
       "      <td>Algeria</td>\n",
       "      <td>Alger</td>\n",
       "      <td>Algiers</td>\n",
       "      <td>Rice - Retail</td>\n",
       "      <td>DZD</td>\n",
       "      <td>Retail</td>\n",
       "      <td>KG</td>\n",
       "      <td>4</td>\n",
       "      <td>2015</td>\n",
       "      <td>90.0</td>\n",
       "      <td>1</td>\n",
       "      <td>2015-04-01</td>\n",
       "    </tr>\n",
       "    <tr>\n",
       "      <th>1</th>\n",
       "      <td>15428</td>\n",
       "      <td>Algeria</td>\n",
       "      <td>Alger</td>\n",
       "      <td>Algiers</td>\n",
       "      <td>Rice - Retail</td>\n",
       "      <td>DZD</td>\n",
       "      <td>Retail</td>\n",
       "      <td>KG</td>\n",
       "      <td>5</td>\n",
       "      <td>2015</td>\n",
       "      <td>96.0</td>\n",
       "      <td>1</td>\n",
       "      <td>2015-05-01</td>\n",
       "    </tr>\n",
       "    <tr>\n",
       "      <th>2</th>\n",
       "      <td>15429</td>\n",
       "      <td>Algeria</td>\n",
       "      <td>Alger</td>\n",
       "      <td>Algiers</td>\n",
       "      <td>Rice - Retail</td>\n",
       "      <td>DZD</td>\n",
       "      <td>Retail</td>\n",
       "      <td>KG</td>\n",
       "      <td>6</td>\n",
       "      <td>2015</td>\n",
       "      <td>96.0</td>\n",
       "      <td>1</td>\n",
       "      <td>2015-06-01</td>\n",
       "    </tr>\n",
       "    <tr>\n",
       "      <th>3</th>\n",
       "      <td>15430</td>\n",
       "      <td>Algeria</td>\n",
       "      <td>Alger</td>\n",
       "      <td>Algiers</td>\n",
       "      <td>Rice - Retail</td>\n",
       "      <td>DZD</td>\n",
       "      <td>Retail</td>\n",
       "      <td>KG</td>\n",
       "      <td>7</td>\n",
       "      <td>2015</td>\n",
       "      <td>83.0</td>\n",
       "      <td>1</td>\n",
       "      <td>2015-07-01</td>\n",
       "    </tr>\n",
       "    <tr>\n",
       "      <th>4</th>\n",
       "      <td>15431</td>\n",
       "      <td>Algeria</td>\n",
       "      <td>Alger</td>\n",
       "      <td>Algiers</td>\n",
       "      <td>Rice - Retail</td>\n",
       "      <td>DZD</td>\n",
       "      <td>Retail</td>\n",
       "      <td>KG</td>\n",
       "      <td>8</td>\n",
       "      <td>2015</td>\n",
       "      <td>80.0</td>\n",
       "      <td>1</td>\n",
       "      <td>2015-08-01</td>\n",
       "    </tr>\n",
       "  </tbody>\n",
       "</table>\n",
       "</div>"
      ],
      "text/plain": [
       "      id  country  state   market        produce currency market_type  \\\n",
       "0  15427  Algeria  Alger  Algiers  Rice - Retail      DZD      Retail   \n",
       "1  15428  Algeria  Alger  Algiers  Rice - Retail      DZD      Retail   \n",
       "2  15429  Algeria  Alger  Algiers  Rice - Retail      DZD      Retail   \n",
       "3  15430  Algeria  Alger  Algiers  Rice - Retail      DZD      Retail   \n",
       "4  15431  Algeria  Alger  Algiers  Rice - Retail      DZD      Retail   \n",
       "\n",
       "  quantity month  year  price day       date  \n",
       "0       KG     4  2015   90.0   1 2015-04-01  \n",
       "1       KG     5  2015   96.0   1 2015-05-01  \n",
       "2       KG     6  2015   96.0   1 2015-06-01  \n",
       "3       KG     7  2015   83.0   1 2015-07-01  \n",
       "4       KG     8  2015   80.0   1 2015-08-01  "
      ]
     },
     "execution_count": 12,
     "metadata": {},
     "output_type": "execute_result"
    }
   ],
   "source": [
    "df.head()"
   ]
  },
  {
   "cell_type": "code",
   "execution_count": 13,
   "id": "312a6d62-20cd-4e32-b57e-043f3a461f92",
   "metadata": {
    "tags": []
   },
   "outputs": [
    {
     "data": {
      "text/plain": [
       "id                  0\n",
       "country             0\n",
       "state          126678\n",
       "market              0\n",
       "produce             0\n",
       "currency            0\n",
       "market_type         0\n",
       "quantity            0\n",
       "month               0\n",
       "year                0\n",
       "price               0\n",
       "day                 0\n",
       "date                0\n",
       "dtype: int64"
      ]
     },
     "execution_count": 13,
     "metadata": {},
     "output_type": "execute_result"
    }
   ],
   "source": [
    "df.isnull().sum()"
   ]
  },
  {
   "cell_type": "code",
   "execution_count": 14,
   "id": "2a73638d-5ded-4066-a79f-047db0d46327",
   "metadata": {
    "tags": []
   },
   "outputs": [
    {
     "name": "stdout",
     "output_type": "stream",
     "text": [
      "AMOUNT OF ROWS: 956779\n",
      "AMOUNT OF COLUMNS: 13\n"
     ]
    }
   ],
   "source": [
    "print(f'AMOUNT OF ROWS: {df.shape[0]}\\nAMOUNT OF COLUMNS: {df.shape[1]}')"
   ]
  },
  {
   "cell_type": "markdown",
   "id": "ec493d17-89a3-4b4b-9ae8-da9e53f78f55",
   "metadata": {
    "jp-MarkdownHeadingCollapsed": true,
    "tags": []
   },
   "source": [
    "# EXPLORING THE OPTIONS OF HANDLING NULL VALUES"
   ]
  },
  {
   "cell_type": "markdown",
   "id": "7c65b6e3-5d89-407c-a8ab-0fe65026186a",
   "metadata": {
    "tags": []
   },
   "source": [
    "* EXPLORING THE DATASET WITH NULL VALUES"
   ]
  },
  {
   "cell_type": "markdown",
   "id": "0ca756b9-4119-4257-9a93-f2551611fe65",
   "metadata": {
    "tags": []
   },
   "source": [
    "1. The null values account for 13.24% of the dataset.\n",
    "2. We only hve the null values on the state columns. Do we remove null values or fillna()?\n",
    "3. We see that the null values has other data records intact, hence only the state column is null\n",
    "4. Therefore, we check the country with the null values."
   ]
  },
  {
   "cell_type": "code",
   "execution_count": 15,
   "id": "4def909b-2942-4e15-a0e0-1db403c3ab0c",
   "metadata": {
    "tags": []
   },
   "outputs": [
    {
     "data": {
      "text/html": [
       "<div>\n",
       "<style scoped>\n",
       "    .dataframe tbody tr th:only-of-type {\n",
       "        vertical-align: middle;\n",
       "    }\n",
       "\n",
       "    .dataframe tbody tr th {\n",
       "        vertical-align: top;\n",
       "    }\n",
       "\n",
       "    .dataframe thead th {\n",
       "        text-align: right;\n",
       "    }\n",
       "</style>\n",
       "<table border=\"1\" class=\"dataframe\">\n",
       "  <thead>\n",
       "    <tr style=\"text-align: right;\">\n",
       "      <th></th>\n",
       "      <th>id</th>\n",
       "      <th>country</th>\n",
       "      <th>state</th>\n",
       "      <th>market</th>\n",
       "      <th>produce</th>\n",
       "      <th>currency</th>\n",
       "      <th>market_type</th>\n",
       "      <th>quantity</th>\n",
       "      <th>month</th>\n",
       "      <th>year</th>\n",
       "      <th>price</th>\n",
       "      <th>day</th>\n",
       "      <th>date</th>\n",
       "    </tr>\n",
       "  </thead>\n",
       "  <tbody>\n",
       "    <tr>\n",
       "      <th>140847</th>\n",
       "      <td>398362</td>\n",
       "      <td>Chad</td>\n",
       "      <td>NaN</td>\n",
       "      <td>National Average</td>\n",
       "      <td>Rice (imported) - Retail</td>\n",
       "      <td>XAF</td>\n",
       "      <td>Retail</td>\n",
       "      <td>KG</td>\n",
       "      <td>11</td>\n",
       "      <td>2018</td>\n",
       "      <td>567.0</td>\n",
       "      <td>1</td>\n",
       "      <td>2018-11-01</td>\n",
       "    </tr>\n",
       "    <tr>\n",
       "      <th>140848</th>\n",
       "      <td>398363</td>\n",
       "      <td>Chad</td>\n",
       "      <td>NaN</td>\n",
       "      <td>National Average</td>\n",
       "      <td>Millet - Retail</td>\n",
       "      <td>XAF</td>\n",
       "      <td>Retail</td>\n",
       "      <td>KG</td>\n",
       "      <td>10</td>\n",
       "      <td>2018</td>\n",
       "      <td>191.0</td>\n",
       "      <td>1</td>\n",
       "      <td>2018-10-01</td>\n",
       "    </tr>\n",
       "    <tr>\n",
       "      <th>140849</th>\n",
       "      <td>398364</td>\n",
       "      <td>Chad</td>\n",
       "      <td>NaN</td>\n",
       "      <td>National Average</td>\n",
       "      <td>Millet - Retail</td>\n",
       "      <td>XAF</td>\n",
       "      <td>Retail</td>\n",
       "      <td>KG</td>\n",
       "      <td>11</td>\n",
       "      <td>2018</td>\n",
       "      <td>175.0</td>\n",
       "      <td>1</td>\n",
       "      <td>2018-11-01</td>\n",
       "    </tr>\n",
       "    <tr>\n",
       "      <th>140850</th>\n",
       "      <td>398365</td>\n",
       "      <td>Chad</td>\n",
       "      <td>NaN</td>\n",
       "      <td>National Average</td>\n",
       "      <td>Sorghum (red) - Retail</td>\n",
       "      <td>XAF</td>\n",
       "      <td>Retail</td>\n",
       "      <td>KG</td>\n",
       "      <td>10</td>\n",
       "      <td>2018</td>\n",
       "      <td>172.0</td>\n",
       "      <td>1</td>\n",
       "      <td>2018-10-01</td>\n",
       "    </tr>\n",
       "    <tr>\n",
       "      <th>140851</th>\n",
       "      <td>398366</td>\n",
       "      <td>Chad</td>\n",
       "      <td>NaN</td>\n",
       "      <td>National Average</td>\n",
       "      <td>Sorghum (red) - Retail</td>\n",
       "      <td>XAF</td>\n",
       "      <td>Retail</td>\n",
       "      <td>KG</td>\n",
       "      <td>11</td>\n",
       "      <td>2018</td>\n",
       "      <td>147.0</td>\n",
       "      <td>1</td>\n",
       "      <td>2018-11-01</td>\n",
       "    </tr>\n",
       "  </tbody>\n",
       "</table>\n",
       "</div>"
      ],
      "text/plain": [
       "            id country state            market                   produce  \\\n",
       "140847  398362    Chad   NaN  National Average  Rice (imported) - Retail   \n",
       "140848  398363    Chad   NaN  National Average           Millet - Retail   \n",
       "140849  398364    Chad   NaN  National Average           Millet - Retail   \n",
       "140850  398365    Chad   NaN  National Average    Sorghum (red) - Retail   \n",
       "140851  398366    Chad   NaN  National Average    Sorghum (red) - Retail   \n",
       "\n",
       "       currency market_type quantity month  year  price day       date  \n",
       "140847      XAF      Retail       KG    11  2018  567.0   1 2018-11-01  \n",
       "140848      XAF      Retail       KG    10  2018  191.0   1 2018-10-01  \n",
       "140849      XAF      Retail       KG    11  2018  175.0   1 2018-11-01  \n",
       "140850      XAF      Retail       KG    10  2018  172.0   1 2018-10-01  \n",
       "140851      XAF      Retail       KG    11  2018  147.0   1 2018-11-01  "
      ]
     },
     "execution_count": 15,
     "metadata": {},
     "output_type": "execute_result"
    }
   ],
   "source": [
    "# Sending null rows as pandas dataframe to a variable\n",
    "df_na = df[df.isna().any(axis =1)]\n",
    "df_na.head()"
   ]
  },
  {
   "cell_type": "code",
   "execution_count": 16,
   "id": "8b0d695b-14e2-403a-8a55-c1e1087cbd56",
   "metadata": {
    "tags": []
   },
   "outputs": [
    {
     "name": "stdout",
     "output_type": "stream",
     "text": [
      "We have 6 countries with null values\n",
      "Chad\n",
      "Egypt\n",
      "Libya\n",
      "Mozambique\n",
      "South Sudan\n",
      "Swaziland\n"
     ]
    }
   ],
   "source": [
    "print(f\"We have {df_na['country'].nunique()} countries with null values\")\n",
    "for i in df_na['country'].unique():\n",
    "    print (i)"
   ]
  },
  {
   "cell_type": "markdown",
   "id": "2eebd756-ceb6-4474-b7d7-a52970c310a4",
   "metadata": {},
   "source": [
    "* EXPLORING DATASET WITH NO NULL VALUES"
   ]
  },
  {
   "cell_type": "code",
   "execution_count": 17,
   "id": "093ff3b1-ce08-4dbd-8259-9d33012e7b40",
   "metadata": {
    "tags": []
   },
   "outputs": [],
   "source": [
    "df_no_null = df.copy()\n",
    "df_no_null.dropna(inplace = True)"
   ]
  },
  {
   "cell_type": "code",
   "execution_count": 18,
   "id": "89410e5a-252f-4dcc-a056-9d516fc5c2a6",
   "metadata": {
    "tags": []
   },
   "outputs": [
    {
     "data": {
      "text/html": [
       "<div>\n",
       "<style scoped>\n",
       "    .dataframe tbody tr th:only-of-type {\n",
       "        vertical-align: middle;\n",
       "    }\n",
       "\n",
       "    .dataframe tbody tr th {\n",
       "        vertical-align: top;\n",
       "    }\n",
       "\n",
       "    .dataframe thead th {\n",
       "        text-align: right;\n",
       "    }\n",
       "</style>\n",
       "<table border=\"1\" class=\"dataframe\">\n",
       "  <thead>\n",
       "    <tr style=\"text-align: right;\">\n",
       "      <th></th>\n",
       "      <th>id</th>\n",
       "      <th>country</th>\n",
       "      <th>state</th>\n",
       "      <th>market</th>\n",
       "      <th>produce</th>\n",
       "      <th>currency</th>\n",
       "      <th>market_type</th>\n",
       "      <th>quantity</th>\n",
       "      <th>month</th>\n",
       "      <th>year</th>\n",
       "      <th>price</th>\n",
       "      <th>day</th>\n",
       "      <th>date</th>\n",
       "    </tr>\n",
       "  </thead>\n",
       "  <tbody>\n",
       "    <tr>\n",
       "      <th>0</th>\n",
       "      <td>15427</td>\n",
       "      <td>Algeria</td>\n",
       "      <td>Alger</td>\n",
       "      <td>Algiers</td>\n",
       "      <td>Rice - Retail</td>\n",
       "      <td>DZD</td>\n",
       "      <td>Retail</td>\n",
       "      <td>KG</td>\n",
       "      <td>4</td>\n",
       "      <td>2015</td>\n",
       "      <td>90.0</td>\n",
       "      <td>1</td>\n",
       "      <td>2015-04-01</td>\n",
       "    </tr>\n",
       "    <tr>\n",
       "      <th>1</th>\n",
       "      <td>15428</td>\n",
       "      <td>Algeria</td>\n",
       "      <td>Alger</td>\n",
       "      <td>Algiers</td>\n",
       "      <td>Rice - Retail</td>\n",
       "      <td>DZD</td>\n",
       "      <td>Retail</td>\n",
       "      <td>KG</td>\n",
       "      <td>5</td>\n",
       "      <td>2015</td>\n",
       "      <td>96.0</td>\n",
       "      <td>1</td>\n",
       "      <td>2015-05-01</td>\n",
       "    </tr>\n",
       "    <tr>\n",
       "      <th>2</th>\n",
       "      <td>15429</td>\n",
       "      <td>Algeria</td>\n",
       "      <td>Alger</td>\n",
       "      <td>Algiers</td>\n",
       "      <td>Rice - Retail</td>\n",
       "      <td>DZD</td>\n",
       "      <td>Retail</td>\n",
       "      <td>KG</td>\n",
       "      <td>6</td>\n",
       "      <td>2015</td>\n",
       "      <td>96.0</td>\n",
       "      <td>1</td>\n",
       "      <td>2015-06-01</td>\n",
       "    </tr>\n",
       "    <tr>\n",
       "      <th>3</th>\n",
       "      <td>15430</td>\n",
       "      <td>Algeria</td>\n",
       "      <td>Alger</td>\n",
       "      <td>Algiers</td>\n",
       "      <td>Rice - Retail</td>\n",
       "      <td>DZD</td>\n",
       "      <td>Retail</td>\n",
       "      <td>KG</td>\n",
       "      <td>7</td>\n",
       "      <td>2015</td>\n",
       "      <td>83.0</td>\n",
       "      <td>1</td>\n",
       "      <td>2015-07-01</td>\n",
       "    </tr>\n",
       "    <tr>\n",
       "      <th>4</th>\n",
       "      <td>15431</td>\n",
       "      <td>Algeria</td>\n",
       "      <td>Alger</td>\n",
       "      <td>Algiers</td>\n",
       "      <td>Rice - Retail</td>\n",
       "      <td>DZD</td>\n",
       "      <td>Retail</td>\n",
       "      <td>KG</td>\n",
       "      <td>8</td>\n",
       "      <td>2015</td>\n",
       "      <td>80.0</td>\n",
       "      <td>1</td>\n",
       "      <td>2015-08-01</td>\n",
       "    </tr>\n",
       "  </tbody>\n",
       "</table>\n",
       "</div>"
      ],
      "text/plain": [
       "      id  country  state   market        produce currency market_type  \\\n",
       "0  15427  Algeria  Alger  Algiers  Rice - Retail      DZD      Retail   \n",
       "1  15428  Algeria  Alger  Algiers  Rice - Retail      DZD      Retail   \n",
       "2  15429  Algeria  Alger  Algiers  Rice - Retail      DZD      Retail   \n",
       "3  15430  Algeria  Alger  Algiers  Rice - Retail      DZD      Retail   \n",
       "4  15431  Algeria  Alger  Algiers  Rice - Retail      DZD      Retail   \n",
       "\n",
       "  quantity month  year  price day       date  \n",
       "0       KG     4  2015   90.0   1 2015-04-01  \n",
       "1       KG     5  2015   96.0   1 2015-05-01  \n",
       "2       KG     6  2015   96.0   1 2015-06-01  \n",
       "3       KG     7  2015   83.0   1 2015-07-01  \n",
       "4       KG     8  2015   80.0   1 2015-08-01  "
      ]
     },
     "execution_count": 18,
     "metadata": {},
     "output_type": "execute_result"
    }
   ],
   "source": [
    "df_no_null.head()"
   ]
  },
  {
   "cell_type": "code",
   "execution_count": 19,
   "id": "c8b6eb55-2350-4b07-a040-c3ed7061a126",
   "metadata": {
    "tags": []
   },
   "outputs": [
    {
     "data": {
      "text/plain": [
       "array(['Algeria', 'Angola', 'Benin', 'Burundi', 'Cameroon', 'Cape Verde',\n",
       "       'Central African Republic', 'Congo', 'Djibouti', 'Eritrea',\n",
       "       'Ethiopia', 'Gabon', 'Gambia', 'Ghana', 'Guinea', 'Guinea-Bissau',\n",
       "       'Kenya', 'Lesotho', 'Liberia', 'Madagascar', 'Malawi', 'Mali',\n",
       "       'Mauritania', 'Namibia', 'Niger', 'Nigeria', 'Rwanda', 'Senegal',\n",
       "       'Sierra Leone', 'Somalia', 'South Africa', 'Sudan', 'Togo',\n",
       "       'Uganda', 'Zambia', 'Zimbabwe'], dtype=object)"
      ]
     },
     "execution_count": 19,
     "metadata": {},
     "output_type": "execute_result"
    }
   ],
   "source": [
    "df_no_null['country'].unique()"
   ]
  },
  {
   "cell_type": "code",
   "execution_count": 20,
   "id": "ef0b1de1-b43d-4cdb-8ad3-acc4e056d3df",
   "metadata": {
    "tags": []
   },
   "outputs": [
    {
     "name": "stdout",
     "output_type": "stream",
     "text": [
      "Amount or rows: 830101\n",
      "Amount of columns: 13\n"
     ]
    }
   ],
   "source": [
    "print(f\"Amount or rows: {df_no_null.shape[0]}\\nAmount of columns: {df_no_null.shape[1]}\")"
   ]
  },
  {
   "cell_type": "code",
   "execution_count": 21,
   "id": "64929e44-0072-4a8b-ae6c-e392f82f19f2",
   "metadata": {
    "tags": []
   },
   "outputs": [
    {
     "data": {
      "text/plain": [
       "array(['Chad', 'Egypt', 'Libya', 'Mozambique', 'South Sudan', 'Swaziland'],\n",
       "      dtype=object)"
      ]
     },
     "execution_count": 21,
     "metadata": {},
     "output_type": "execute_result"
    }
   ],
   "source": [
    "df_na['country'].unique()"
   ]
  },
  {
   "cell_type": "code",
   "execution_count": 22,
   "id": "fe4f13f5-1007-4169-be82-aade03e897be",
   "metadata": {
    "tags": []
   },
   "outputs": [
    {
     "name": "stdout",
     "output_type": "stream",
     "text": [
      "Amount of rows: 126678\n",
      "Amount of columns: 13\n"
     ]
    }
   ],
   "source": [
    "print(f\"Amount of rows: {df_na.shape[0]}\\nAmount of columns: {df_na.shape[1]}\")"
   ]
  },
  {
   "cell_type": "markdown",
   "id": "73ffd1ec-2eed-437c-98aa-c0901785422f",
   "metadata": {},
   "source": [
    "CONCLUSION\n",
    "\n",
    "* Removing null values will eliminate df_na['country'].unique() from the dataset.\n",
    "* These will affect the originality of the dataset.\n",
    "* We will therefore fill null state values with their country item."
   ]
  },
  {
   "cell_type": "code",
   "execution_count": 23,
   "id": "43081147-32be-4393-9261-de73f97e9e5a",
   "metadata": {
    "tags": []
   },
   "outputs": [
    {
     "data": {
      "text/plain": [
       "id             0\n",
       "country        0\n",
       "state          0\n",
       "market         0\n",
       "produce        0\n",
       "currency       0\n",
       "market_type    0\n",
       "quantity       0\n",
       "month          0\n",
       "year           0\n",
       "price          0\n",
       "day            0\n",
       "date           0\n",
       "dtype: int64"
      ]
     },
     "execution_count": 23,
     "metadata": {},
     "output_type": "execute_result"
    }
   ],
   "source": [
    "df['state'].fillna(df['country'], inplace = True)\n",
    "df.isna().sum()"
   ]
  },
  {
   "cell_type": "code",
   "execution_count": 24,
   "id": "231e03f1-537b-4111-8f72-92625c4f61e2",
   "metadata": {
    "tags": []
   },
   "outputs": [
    {
     "data": {
      "text/plain": [
       "country\n",
       "Rwanda                      137746\n",
       "Mali                         73843\n",
       "Burundi                      60921\n",
       "Gambia                       56971\n",
       "Niger                        54974\n",
       "Nigeria                      50285\n",
       "Zambia                       42793\n",
       "Mozambique                   42278\n",
       "Libya                        41207\n",
       "Benin                        39530\n",
       "Senegal                      33563\n",
       "Ghana                        25414\n",
       "Ethiopia                     24627\n",
       "Malawi                       22682\n",
       "Cameroon                     22476\n",
       "Guinea-Bissau                19796\n",
       "Chad                         18896\n",
       "Somalia                      18444\n",
       "South Sudan                  17746\n",
       "Central African Republic     12720\n",
       "Liberia                      12302\n",
       "Guinea                       11810\n",
       "Sierra Leone                 11645\n",
       "Zimbabwe                     10957\n",
       "Mauritania                   10871\n",
       "Sudan                         9890\n",
       "Lesotho                       9364\n",
       "Madagascar                    9193\n",
       "Kenya                         8884\n",
       "Uganda                        7781\n",
       "Namibia                       7163\n",
       "Djibouti                      6006\n",
       "Togo                          5615\n",
       "Congo                         5257\n",
       "Swaziland                     4247\n",
       "Egypt                         2304\n",
       "Cape Verde                    2135\n",
       "Algeria                       1793\n",
       "Angola                        1272\n",
       "South Africa                   774\n",
       "Gabon                          504\n",
       "Eritrea                        100\n",
       "Name: count, dtype: int64"
      ]
     },
     "execution_count": 24,
     "metadata": {},
     "output_type": "execute_result"
    }
   ],
   "source": [
    "# Checking the amount of rows each countries are occupying in the dataset\n",
    "df.country.value_counts()"
   ]
  },
  {
   "cell_type": "markdown",
   "id": "e6891c34-2d14-487a-9c07-cb37ba04d9cd",
   "metadata": {
    "jp-MarkdownHeadingCollapsed": true,
    "tags": []
   },
   "source": [
    "# CHECKING THE MEAN, MAX AND MIN PRICE OF PRODUCE IN COUNTRIES RECORDED IN THE DATASET"
   ]
  },
  {
   "cell_type": "markdown",
   "id": "5f8f7375-cc8c-48ca-a01f-85693858520a",
   "metadata": {},
   "source": [
    "Checking statistical summary of data items by:\n",
    "* Country\n",
    "* Currency\n",
    "* Market type"
   ]
  },
  {
   "cell_type": "code",
   "execution_count": 25,
   "id": "4da40ac9-c0d7-44a3-9dcb-d6aea33fd9f5",
   "metadata": {
    "tags": []
   },
   "outputs": [],
   "source": [
    "df_grp = df.groupby(['country', 'currency','market_type'])"
   ]
  },
  {
   "cell_type": "code",
   "execution_count": 26,
   "id": "39628760-0ca7-42ea-acd8-190a9f5d1982",
   "metadata": {
    "tags": []
   },
   "outputs": [
    {
     "data": {
      "text/html": [
       "<div>\n",
       "<style scoped>\n",
       "    .dataframe tbody tr th:only-of-type {\n",
       "        vertical-align: middle;\n",
       "    }\n",
       "\n",
       "    .dataframe tbody tr th {\n",
       "        vertical-align: top;\n",
       "    }\n",
       "\n",
       "    .dataframe thead th {\n",
       "        text-align: right;\n",
       "    }\n",
       "</style>\n",
       "<table border=\"1\" class=\"dataframe\">\n",
       "  <thead>\n",
       "    <tr style=\"text-align: right;\">\n",
       "      <th></th>\n",
       "      <th></th>\n",
       "      <th></th>\n",
       "      <th>min</th>\n",
       "      <th>max</th>\n",
       "      <th>mean</th>\n",
       "    </tr>\n",
       "    <tr>\n",
       "      <th>country</th>\n",
       "      <th>currency</th>\n",
       "      <th>market_type</th>\n",
       "      <th></th>\n",
       "      <th></th>\n",
       "      <th></th>\n",
       "    </tr>\n",
       "  </thead>\n",
       "  <tbody>\n",
       "    <tr>\n",
       "      <th>Algeria</th>\n",
       "      <th>DZD</th>\n",
       "      <th>Retail</th>\n",
       "      <td>4.0000</td>\n",
       "      <td>1.200000e+03</td>\n",
       "      <td>164.961907</td>\n",
       "    </tr>\n",
       "    <tr>\n",
       "      <th>Angola</th>\n",
       "      <th>AOA</th>\n",
       "      <th>Retail</th>\n",
       "      <td>35.2000</td>\n",
       "      <td>1.428095e+04</td>\n",
       "      <td>1038.963442</td>\n",
       "    </tr>\n",
       "    <tr>\n",
       "      <th rowspan=\"2\" valign=\"top\">Benin</th>\n",
       "      <th rowspan=\"2\" valign=\"top\">XOF</th>\n",
       "      <th>Retail</th>\n",
       "      <td>3.0000</td>\n",
       "      <td>2.184359e+04</td>\n",
       "      <td>616.286497</td>\n",
       "    </tr>\n",
       "    <tr>\n",
       "      <th>Wholesale</th>\n",
       "      <td>71.2500</td>\n",
       "      <td>4.530000e+02</td>\n",
       "      <td>188.163428</td>\n",
       "    </tr>\n",
       "    <tr>\n",
       "      <th rowspan=\"2\" valign=\"top\">Burundi</th>\n",
       "      <th rowspan=\"2\" valign=\"top\">BIF</th>\n",
       "      <th>Retail</th>\n",
       "      <td>1.0000</td>\n",
       "      <td>7.360400e+04</td>\n",
       "      <td>2523.920066</td>\n",
       "    </tr>\n",
       "    <tr>\n",
       "      <th>Wholesale</th>\n",
       "      <td>293.6700</td>\n",
       "      <td>1.528853e+03</td>\n",
       "      <td>777.709002</td>\n",
       "    </tr>\n",
       "    <tr>\n",
       "      <th rowspan=\"2\" valign=\"top\">Cameroon</th>\n",
       "      <th rowspan=\"2\" valign=\"top\">XAF</th>\n",
       "      <th>Retail</th>\n",
       "      <td>65.7200</td>\n",
       "      <td>3.000000e+04</td>\n",
       "      <td>1969.496117</td>\n",
       "    </tr>\n",
       "    <tr>\n",
       "      <th>Wholesale</th>\n",
       "      <td>400.0000</td>\n",
       "      <td>1.600000e+05</td>\n",
       "      <td>25499.473397</td>\n",
       "    </tr>\n",
       "    <tr>\n",
       "      <th>Cape Verde</th>\n",
       "      <th>CVE</th>\n",
       "      <th>Retail</th>\n",
       "      <td>27.4100</td>\n",
       "      <td>3.466700e+02</td>\n",
       "      <td>87.230546</td>\n",
       "    </tr>\n",
       "    <tr>\n",
       "      <th>Central African Republic</th>\n",
       "      <th>XAF</th>\n",
       "      <th>Retail</th>\n",
       "      <td>5.0000</td>\n",
       "      <td>1.035341e+04</td>\n",
       "      <td>980.444644</td>\n",
       "    </tr>\n",
       "    <tr>\n",
       "      <th>Chad</th>\n",
       "      <th>XAF</th>\n",
       "      <th>Retail</th>\n",
       "      <td>15.0000</td>\n",
       "      <td>2.148330e+05</td>\n",
       "      <td>6402.038909</td>\n",
       "    </tr>\n",
       "    <tr>\n",
       "      <th>Congo</th>\n",
       "      <th>XAF</th>\n",
       "      <th>Retail</th>\n",
       "      <td>118.0000</td>\n",
       "      <td>1.380000e+04</td>\n",
       "      <td>1461.473620</td>\n",
       "    </tr>\n",
       "    <tr>\n",
       "      <th rowspan=\"2\" valign=\"top\">Djibouti</th>\n",
       "      <th rowspan=\"2\" valign=\"top\">DJF</th>\n",
       "      <th>Retail</th>\n",
       "      <td>22.5000</td>\n",
       "      <td>4.000000e+02</td>\n",
       "      <td>152.346725</td>\n",
       "    </tr>\n",
       "    <tr>\n",
       "      <th>Wholesale</th>\n",
       "      <td>3400.0000</td>\n",
       "      <td>1.450000e+04</td>\n",
       "      <td>6818.259386</td>\n",
       "    </tr>\n",
       "    <tr>\n",
       "      <th>Egypt</th>\n",
       "      <th>EGP</th>\n",
       "      <th>Retail</th>\n",
       "      <td>0.6600</td>\n",
       "      <td>1.504600e+02</td>\n",
       "      <td>19.291319</td>\n",
       "    </tr>\n",
       "    <tr>\n",
       "      <th>Eritrea</th>\n",
       "      <th>ERN</th>\n",
       "      <th>Retail</th>\n",
       "      <td>900.0000</td>\n",
       "      <td>5.000000e+03</td>\n",
       "      <td>2272.000000</td>\n",
       "    </tr>\n",
       "    <tr>\n",
       "      <th rowspan=\"2\" valign=\"top\">Ethiopia</th>\n",
       "      <th rowspan=\"2\" valign=\"top\">ETB</th>\n",
       "      <th>Retail</th>\n",
       "      <td>0.7680</td>\n",
       "      <td>4.800000e+04</td>\n",
       "      <td>1266.349868</td>\n",
       "    </tr>\n",
       "    <tr>\n",
       "      <th>Wholesale</th>\n",
       "      <td>43.2500</td>\n",
       "      <td>6.000000e+03</td>\n",
       "      <td>1122.492621</td>\n",
       "    </tr>\n",
       "    <tr>\n",
       "      <th>Gabon</th>\n",
       "      <th>XAF</th>\n",
       "      <th>Retail</th>\n",
       "      <td>303.0000</td>\n",
       "      <td>1.519000e+03</td>\n",
       "      <td>691.063492</td>\n",
       "    </tr>\n",
       "    <tr>\n",
       "      <th>Gambia</th>\n",
       "      <th>GMD</th>\n",
       "      <th>Retail</th>\n",
       "      <td>0.0000</td>\n",
       "      <td>1.000000e+03</td>\n",
       "      <td>56.864125</td>\n",
       "    </tr>\n",
       "    <tr>\n",
       "      <th rowspan=\"2\" valign=\"top\">Ghana</th>\n",
       "      <th rowspan=\"2\" valign=\"top\">GHS</th>\n",
       "      <th>Retail</th>\n",
       "      <td>0.3200</td>\n",
       "      <td>8.195000e+01</td>\n",
       "      <td>4.739632</td>\n",
       "    </tr>\n",
       "    <tr>\n",
       "      <th>Wholesale</th>\n",
       "      <td>0.8700</td>\n",
       "      <td>2.960780e+03</td>\n",
       "      <td>147.103357</td>\n",
       "    </tr>\n",
       "    <tr>\n",
       "      <th>Guinea</th>\n",
       "      <th>GNF</th>\n",
       "      <th>Retail</th>\n",
       "      <td>500.0000</td>\n",
       "      <td>9.000000e+04</td>\n",
       "      <td>10879.303370</td>\n",
       "    </tr>\n",
       "    <tr>\n",
       "      <th>Guinea-Bissau</th>\n",
       "      <th>XOF</th>\n",
       "      <th>Retail</th>\n",
       "      <td>1.0350</td>\n",
       "      <td>9.464000e+03</td>\n",
       "      <td>877.138516</td>\n",
       "    </tr>\n",
       "    <tr>\n",
       "      <th rowspan=\"2\" valign=\"top\">Kenya</th>\n",
       "      <th rowspan=\"2\" valign=\"top\">KES</th>\n",
       "      <th>Retail</th>\n",
       "      <td>5.0000</td>\n",
       "      <td>7.000000e+02</td>\n",
       "      <td>94.702955</td>\n",
       "    </tr>\n",
       "    <tr>\n",
       "      <th>Wholesale</th>\n",
       "      <td>10.4270</td>\n",
       "      <td>1.035000e+04</td>\n",
       "      <td>2292.169342</td>\n",
       "    </tr>\n",
       "    <tr>\n",
       "      <th>Lesotho</th>\n",
       "      <th>LSL</th>\n",
       "      <th>Retail</th>\n",
       "      <td>5.0000</td>\n",
       "      <td>1.262400e+02</td>\n",
       "      <td>33.346925</td>\n",
       "    </tr>\n",
       "    <tr>\n",
       "      <th>Liberia</th>\n",
       "      <th>LRD</th>\n",
       "      <th>Retail</th>\n",
       "      <td>5.0000</td>\n",
       "      <td>1.100000e+04</td>\n",
       "      <td>1273.684710</td>\n",
       "    </tr>\n",
       "    <tr>\n",
       "      <th>Libya</th>\n",
       "      <th>LYD</th>\n",
       "      <th>Retail</th>\n",
       "      <td>0.0100</td>\n",
       "      <td>3.339167e+02</td>\n",
       "      <td>5.647125</td>\n",
       "    </tr>\n",
       "    <tr>\n",
       "      <th rowspan=\"2\" valign=\"top\">Madagascar</th>\n",
       "      <th rowspan=\"2\" valign=\"top\">MGA</th>\n",
       "      <th>Producer</th>\n",
       "      <td>220.0000</td>\n",
       "      <td>1.103000e+03</td>\n",
       "      <td>666.338710</td>\n",
       "    </tr>\n",
       "    <tr>\n",
       "      <th>Retail</th>\n",
       "      <td>400.0000</td>\n",
       "      <td>9.800000e+03</td>\n",
       "      <td>2601.871071</td>\n",
       "    </tr>\n",
       "    <tr>\n",
       "      <th>Malawi</th>\n",
       "      <th>MWK</th>\n",
       "      <th>Retail</th>\n",
       "      <td>6.4467</td>\n",
       "      <td>1.032578e+04</td>\n",
       "      <td>271.992494</td>\n",
       "    </tr>\n",
       "    <tr>\n",
       "      <th>Mali</th>\n",
       "      <th>XOF</th>\n",
       "      <th>Retail</th>\n",
       "      <td>20.0000</td>\n",
       "      <td>4.745000e+05</td>\n",
       "      <td>2456.511270</td>\n",
       "    </tr>\n",
       "    <tr>\n",
       "      <th>Mauritania</th>\n",
       "      <th>MRO</th>\n",
       "      <th>Retail</th>\n",
       "      <td>8.5000</td>\n",
       "      <td>3.000000e+05</td>\n",
       "      <td>2419.777530</td>\n",
       "    </tr>\n",
       "    <tr>\n",
       "      <th rowspan=\"2\" valign=\"top\">Mozambique</th>\n",
       "      <th rowspan=\"2\" valign=\"top\">MZN</th>\n",
       "      <th>Retail</th>\n",
       "      <td>1.0000</td>\n",
       "      <td>1.000000e+03</td>\n",
       "      <td>44.089540</td>\n",
       "    </tr>\n",
       "    <tr>\n",
       "      <th>Wholesale</th>\n",
       "      <td>1.0100</td>\n",
       "      <td>4.800000e+01</td>\n",
       "      <td>8.552289</td>\n",
       "    </tr>\n",
       "    <tr>\n",
       "      <th>Namibia</th>\n",
       "      <th>NAD</th>\n",
       "      <th>Retail</th>\n",
       "      <td>0.7000</td>\n",
       "      <td>6.856990e+01</td>\n",
       "      <td>10.627170</td>\n",
       "    </tr>\n",
       "    <tr>\n",
       "      <th rowspan=\"2\" valign=\"top\">Niger</th>\n",
       "      <th rowspan=\"2\" valign=\"top\">XOF</th>\n",
       "      <th>Retail</th>\n",
       "      <td>32.0000</td>\n",
       "      <td>2.187500e+03</td>\n",
       "      <td>258.174698</td>\n",
       "    </tr>\n",
       "    <tr>\n",
       "      <th>Wholesale</th>\n",
       "      <td>9000.0000</td>\n",
       "      <td>5.500000e+04</td>\n",
       "      <td>27233.954994</td>\n",
       "    </tr>\n",
       "    <tr>\n",
       "      <th rowspan=\"2\" valign=\"top\">Nigeria</th>\n",
       "      <th rowspan=\"2\" valign=\"top\">NGN</th>\n",
       "      <th>Retail</th>\n",
       "      <td>5.0000</td>\n",
       "      <td>1.700000e+04</td>\n",
       "      <td>365.058666</td>\n",
       "    </tr>\n",
       "    <tr>\n",
       "      <th>Wholesale</th>\n",
       "      <td>64.8369</td>\n",
       "      <td>9.000000e+04</td>\n",
       "      <td>13605.825252</td>\n",
       "    </tr>\n",
       "    <tr>\n",
       "      <th rowspan=\"2\" valign=\"top\">Rwanda</th>\n",
       "      <th rowspan=\"2\" valign=\"top\">RWF</th>\n",
       "      <th>Retail</th>\n",
       "      <td>11.0000</td>\n",
       "      <td>3.323333e+05</td>\n",
       "      <td>1729.005032</td>\n",
       "    </tr>\n",
       "    <tr>\n",
       "      <th>Wholesale</th>\n",
       "      <td>63.3770</td>\n",
       "      <td>8.807460e+02</td>\n",
       "      <td>378.592895</td>\n",
       "    </tr>\n",
       "    <tr>\n",
       "      <th>Senegal</th>\n",
       "      <th>XOF</th>\n",
       "      <th>Retail</th>\n",
       "      <td>90.0000</td>\n",
       "      <td>1.200000e+03</td>\n",
       "      <td>244.034859</td>\n",
       "    </tr>\n",
       "    <tr>\n",
       "      <th>Sierra Leone</th>\n",
       "      <th>SLL</th>\n",
       "      <th>Retail</th>\n",
       "      <td>100.0000</td>\n",
       "      <td>1.666670e+05</td>\n",
       "      <td>12217.162694</td>\n",
       "    </tr>\n",
       "    <tr>\n",
       "      <th>Somalia</th>\n",
       "      <th>SOS</th>\n",
       "      <th>Retail</th>\n",
       "      <td>97.0000</td>\n",
       "      <td>1.725000e+07</td>\n",
       "      <td>112947.340664</td>\n",
       "    </tr>\n",
       "    <tr>\n",
       "      <th>South Africa</th>\n",
       "      <th>ZAR</th>\n",
       "      <th>Wholesale</th>\n",
       "      <td>0.5023</td>\n",
       "      <td>5.757200e+00</td>\n",
       "      <td>2.211281</td>\n",
       "    </tr>\n",
       "    <tr>\n",
       "      <th rowspan=\"2\" valign=\"top\">South Sudan</th>\n",
       "      <th rowspan=\"2\" valign=\"top\">SSP</th>\n",
       "      <th>Retail</th>\n",
       "      <td>1.8000</td>\n",
       "      <td>2.600000e+05</td>\n",
       "      <td>3099.853201</td>\n",
       "    </tr>\n",
       "    <tr>\n",
       "      <th>Wholesale</th>\n",
       "      <td>287.5000</td>\n",
       "      <td>6.500000e+04</td>\n",
       "      <td>9859.198864</td>\n",
       "    </tr>\n",
       "    <tr>\n",
       "      <th rowspan=\"2\" valign=\"top\">Sudan</th>\n",
       "      <th rowspan=\"2\" valign=\"top\">SDG</th>\n",
       "      <th>Retail</th>\n",
       "      <td>0.4975</td>\n",
       "      <td>8.000000e+02</td>\n",
       "      <td>38.224840</td>\n",
       "    </tr>\n",
       "    <tr>\n",
       "      <th>Wholesale</th>\n",
       "      <td>3.0000</td>\n",
       "      <td>2.500000e+04</td>\n",
       "      <td>928.500617</td>\n",
       "    </tr>\n",
       "    <tr>\n",
       "      <th rowspan=\"2\" valign=\"top\">Swaziland</th>\n",
       "      <th rowspan=\"2\" valign=\"top\">SZL</th>\n",
       "      <th>Retail</th>\n",
       "      <td>3.8440</td>\n",
       "      <td>1.142714e+02</td>\n",
       "      <td>15.743829</td>\n",
       "    </tr>\n",
       "    <tr>\n",
       "      <th>Wholesale</th>\n",
       "      <td>50.0000</td>\n",
       "      <td>8.200000e+02</td>\n",
       "      <td>151.335503</td>\n",
       "    </tr>\n",
       "    <tr>\n",
       "      <th>Togo</th>\n",
       "      <th>XOF</th>\n",
       "      <th>Retail</th>\n",
       "      <td>31.0000</td>\n",
       "      <td>7.500000e+02</td>\n",
       "      <td>241.866073</td>\n",
       "    </tr>\n",
       "    <tr>\n",
       "      <th rowspan=\"2\" valign=\"top\">Uganda</th>\n",
       "      <th rowspan=\"2\" valign=\"top\">UGX</th>\n",
       "      <th>Retail</th>\n",
       "      <td>2.0000</td>\n",
       "      <td>1.000000e+04</td>\n",
       "      <td>2041.919797</td>\n",
       "    </tr>\n",
       "    <tr>\n",
       "      <th>Wholesale</th>\n",
       "      <td>203.7490</td>\n",
       "      <td>5.166670e+03</td>\n",
       "      <td>1284.227213</td>\n",
       "    </tr>\n",
       "    <tr>\n",
       "      <th>Zambia</th>\n",
       "      <th>ZMW</th>\n",
       "      <th>Retail</th>\n",
       "      <td>0.0125</td>\n",
       "      <td>1.000000e+02</td>\n",
       "      <td>8.187023</td>\n",
       "    </tr>\n",
       "    <tr>\n",
       "      <th rowspan=\"2\" valign=\"top\">Zimbabwe</th>\n",
       "      <th>USD</th>\n",
       "      <th>Retail</th>\n",
       "      <td>0.1300</td>\n",
       "      <td>2.250000e+02</td>\n",
       "      <td>7.532393</td>\n",
       "    </tr>\n",
       "    <tr>\n",
       "      <th>ZWL</th>\n",
       "      <th>Retail</th>\n",
       "      <td>12.5412</td>\n",
       "      <td>4.225000e+03</td>\n",
       "      <td>201.794740</td>\n",
       "    </tr>\n",
       "  </tbody>\n",
       "</table>\n",
       "</div>"
      ],
      "text/plain": [
       "                                                     min           max  \\\n",
       "country                  currency market_type                            \n",
       "Algeria                  DZD      Retail          4.0000  1.200000e+03   \n",
       "Angola                   AOA      Retail         35.2000  1.428095e+04   \n",
       "Benin                    XOF      Retail          3.0000  2.184359e+04   \n",
       "                                  Wholesale      71.2500  4.530000e+02   \n",
       "Burundi                  BIF      Retail          1.0000  7.360400e+04   \n",
       "                                  Wholesale     293.6700  1.528853e+03   \n",
       "Cameroon                 XAF      Retail         65.7200  3.000000e+04   \n",
       "                                  Wholesale     400.0000  1.600000e+05   \n",
       "Cape Verde               CVE      Retail         27.4100  3.466700e+02   \n",
       "Central African Republic XAF      Retail          5.0000  1.035341e+04   \n",
       "Chad                     XAF      Retail         15.0000  2.148330e+05   \n",
       "Congo                    XAF      Retail        118.0000  1.380000e+04   \n",
       "Djibouti                 DJF      Retail         22.5000  4.000000e+02   \n",
       "                                  Wholesale    3400.0000  1.450000e+04   \n",
       "Egypt                    EGP      Retail          0.6600  1.504600e+02   \n",
       "Eritrea                  ERN      Retail        900.0000  5.000000e+03   \n",
       "Ethiopia                 ETB      Retail          0.7680  4.800000e+04   \n",
       "                                  Wholesale      43.2500  6.000000e+03   \n",
       "Gabon                    XAF      Retail        303.0000  1.519000e+03   \n",
       "Gambia                   GMD      Retail          0.0000  1.000000e+03   \n",
       "Ghana                    GHS      Retail          0.3200  8.195000e+01   \n",
       "                                  Wholesale       0.8700  2.960780e+03   \n",
       "Guinea                   GNF      Retail        500.0000  9.000000e+04   \n",
       "Guinea-Bissau            XOF      Retail          1.0350  9.464000e+03   \n",
       "Kenya                    KES      Retail          5.0000  7.000000e+02   \n",
       "                                  Wholesale      10.4270  1.035000e+04   \n",
       "Lesotho                  LSL      Retail          5.0000  1.262400e+02   \n",
       "Liberia                  LRD      Retail          5.0000  1.100000e+04   \n",
       "Libya                    LYD      Retail          0.0100  3.339167e+02   \n",
       "Madagascar               MGA      Producer      220.0000  1.103000e+03   \n",
       "                                  Retail        400.0000  9.800000e+03   \n",
       "Malawi                   MWK      Retail          6.4467  1.032578e+04   \n",
       "Mali                     XOF      Retail         20.0000  4.745000e+05   \n",
       "Mauritania               MRO      Retail          8.5000  3.000000e+05   \n",
       "Mozambique               MZN      Retail          1.0000  1.000000e+03   \n",
       "                                  Wholesale       1.0100  4.800000e+01   \n",
       "Namibia                  NAD      Retail          0.7000  6.856990e+01   \n",
       "Niger                    XOF      Retail         32.0000  2.187500e+03   \n",
       "                                  Wholesale    9000.0000  5.500000e+04   \n",
       "Nigeria                  NGN      Retail          5.0000  1.700000e+04   \n",
       "                                  Wholesale      64.8369  9.000000e+04   \n",
       "Rwanda                   RWF      Retail         11.0000  3.323333e+05   \n",
       "                                  Wholesale      63.3770  8.807460e+02   \n",
       "Senegal                  XOF      Retail         90.0000  1.200000e+03   \n",
       "Sierra Leone             SLL      Retail        100.0000  1.666670e+05   \n",
       "Somalia                  SOS      Retail         97.0000  1.725000e+07   \n",
       "South Africa             ZAR      Wholesale       0.5023  5.757200e+00   \n",
       "South Sudan              SSP      Retail          1.8000  2.600000e+05   \n",
       "                                  Wholesale     287.5000  6.500000e+04   \n",
       "Sudan                    SDG      Retail          0.4975  8.000000e+02   \n",
       "                                  Wholesale       3.0000  2.500000e+04   \n",
       "Swaziland                SZL      Retail          3.8440  1.142714e+02   \n",
       "                                  Wholesale      50.0000  8.200000e+02   \n",
       "Togo                     XOF      Retail         31.0000  7.500000e+02   \n",
       "Uganda                   UGX      Retail          2.0000  1.000000e+04   \n",
       "                                  Wholesale     203.7490  5.166670e+03   \n",
       "Zambia                   ZMW      Retail          0.0125  1.000000e+02   \n",
       "Zimbabwe                 USD      Retail          0.1300  2.250000e+02   \n",
       "                         ZWL      Retail         12.5412  4.225000e+03   \n",
       "\n",
       "                                                        mean  \n",
       "country                  currency market_type                 \n",
       "Algeria                  DZD      Retail          164.961907  \n",
       "Angola                   AOA      Retail         1038.963442  \n",
       "Benin                    XOF      Retail          616.286497  \n",
       "                                  Wholesale       188.163428  \n",
       "Burundi                  BIF      Retail         2523.920066  \n",
       "                                  Wholesale       777.709002  \n",
       "Cameroon                 XAF      Retail         1969.496117  \n",
       "                                  Wholesale     25499.473397  \n",
       "Cape Verde               CVE      Retail           87.230546  \n",
       "Central African Republic XAF      Retail          980.444644  \n",
       "Chad                     XAF      Retail         6402.038909  \n",
       "Congo                    XAF      Retail         1461.473620  \n",
       "Djibouti                 DJF      Retail          152.346725  \n",
       "                                  Wholesale      6818.259386  \n",
       "Egypt                    EGP      Retail           19.291319  \n",
       "Eritrea                  ERN      Retail         2272.000000  \n",
       "Ethiopia                 ETB      Retail         1266.349868  \n",
       "                                  Wholesale      1122.492621  \n",
       "Gabon                    XAF      Retail          691.063492  \n",
       "Gambia                   GMD      Retail           56.864125  \n",
       "Ghana                    GHS      Retail            4.739632  \n",
       "                                  Wholesale       147.103357  \n",
       "Guinea                   GNF      Retail        10879.303370  \n",
       "Guinea-Bissau            XOF      Retail          877.138516  \n",
       "Kenya                    KES      Retail           94.702955  \n",
       "                                  Wholesale      2292.169342  \n",
       "Lesotho                  LSL      Retail           33.346925  \n",
       "Liberia                  LRD      Retail         1273.684710  \n",
       "Libya                    LYD      Retail            5.647125  \n",
       "Madagascar               MGA      Producer        666.338710  \n",
       "                                  Retail         2601.871071  \n",
       "Malawi                   MWK      Retail          271.992494  \n",
       "Mali                     XOF      Retail         2456.511270  \n",
       "Mauritania               MRO      Retail         2419.777530  \n",
       "Mozambique               MZN      Retail           44.089540  \n",
       "                                  Wholesale         8.552289  \n",
       "Namibia                  NAD      Retail           10.627170  \n",
       "Niger                    XOF      Retail          258.174698  \n",
       "                                  Wholesale     27233.954994  \n",
       "Nigeria                  NGN      Retail          365.058666  \n",
       "                                  Wholesale     13605.825252  \n",
       "Rwanda                   RWF      Retail         1729.005032  \n",
       "                                  Wholesale       378.592895  \n",
       "Senegal                  XOF      Retail          244.034859  \n",
       "Sierra Leone             SLL      Retail        12217.162694  \n",
       "Somalia                  SOS      Retail       112947.340664  \n",
       "South Africa             ZAR      Wholesale         2.211281  \n",
       "South Sudan              SSP      Retail         3099.853201  \n",
       "                                  Wholesale      9859.198864  \n",
       "Sudan                    SDG      Retail           38.224840  \n",
       "                                  Wholesale       928.500617  \n",
       "Swaziland                SZL      Retail           15.743829  \n",
       "                                  Wholesale       151.335503  \n",
       "Togo                     XOF      Retail          241.866073  \n",
       "Uganda                   UGX      Retail         2041.919797  \n",
       "                                  Wholesale      1284.227213  \n",
       "Zambia                   ZMW      Retail            8.187023  \n",
       "Zimbabwe                 USD      Retail            7.532393  \n",
       "                         ZWL      Retail          201.794740  "
      ]
     },
     "execution_count": 26,
     "metadata": {},
     "output_type": "execute_result"
    }
   ],
   "source": [
    "df_grp['price'].agg(['min', 'max', 'mean']).infer_objects()"
   ]
  },
  {
   "cell_type": "markdown",
   "id": "e40bad5a-7723-4c4d-843f-239cdc77658d",
   "metadata": {
    "tags": []
   },
   "source": [
    "# CHECKING THE MOST PERFORMING PRODUCE PER COUNTRY BY TOTAL PRICE"
   ]
  },
  {
   "cell_type": "markdown",
   "id": "2b8a32fb-0cdb-4a3f-ab78-245622fd640b",
   "metadata": {},
   "source": [
    "AS A RESULT OF CURRENCY DIFFERENCE (that is, 50 Naira(NGN) is not the same as 50 Ugandan Shillings), WE WILL VIEW PRODUCE BY PRICE PERFORMANCE PER COUNTRY WITH PRICE SUM IN DESCENDING MANNER."
   ]
  },
  {
   "cell_type": "code",
   "execution_count": 50,
   "id": "04ce1dcd-8ee9-4af3-bacd-432ac3bcb9ce",
   "metadata": {
    "tags": []
   },
   "outputs": [],
   "source": [
    "def show_performing_produce():\n",
    "    try:\n",
    "        print(\"Enter correct spelling of only one country here to see produce by price performance in that country\")\n",
    "        answer = input(\"Enter correct spelling here: \").capitalize()\n",
    "        if answer in df.country.unique():\n",
    "            print(f\"\\n\\nProduce by price performance in {answer}\")\n",
    "            df_most_performing = df.groupby(['country','produce'])['price'].agg(['sum']).sort_values(by = 'sum', ascending = False)\n",
    "            show_this = df_most_performing.loc[answer].sort_values(by= 'sum', ascending = False)\n",
    "            return show_this\n",
    "        else:\n",
    "            print(f\"Not Present in data. See list of recognized country below\\n{df.country.unique()}\")\n",
    "            return\n",
    "    except:\n",
    "        print(\"ERROR!\\nEnsure you entered the RIGHT SPELLING of ONLY ONE COUNTRY\")"
   ]
  },
  {
   "cell_type": "code",
   "execution_count": 57,
   "id": "18b8f7fe-5893-49cd-8867-d49a1bca7802",
   "metadata": {
    "tags": []
   },
   "outputs": [
    {
     "name": "stdout",
     "output_type": "stream",
     "text": [
      "Enter correct spelling of only one country here to see produce by price performance in that country\n"
     ]
    },
    {
     "name": "stdin",
     "output_type": "stream",
     "text": [
      "Enter correct spelling here:  egypt\n"
     ]
    },
    {
     "name": "stdout",
     "output_type": "stream",
     "text": [
      "\n",
      "\n",
      "Produce by price performance in Egypt\n"
     ]
    },
    {
     "data": {
      "text/html": [
       "<div>\n",
       "<style scoped>\n",
       "    .dataframe tbody tr th:only-of-type {\n",
       "        vertical-align: middle;\n",
       "    }\n",
       "\n",
       "    .dataframe tbody tr th {\n",
       "        vertical-align: top;\n",
       "    }\n",
       "\n",
       "    .dataframe thead th {\n",
       "        text-align: right;\n",
       "    }\n",
       "</style>\n",
       "<table border=\"1\" class=\"dataframe\">\n",
       "  <thead>\n",
       "    <tr style=\"text-align: right;\">\n",
       "      <th></th>\n",
       "      <th>sum</th>\n",
       "    </tr>\n",
       "    <tr>\n",
       "      <th>produce</th>\n",
       "      <th></th>\n",
       "    </tr>\n",
       "  </thead>\n",
       "  <tbody>\n",
       "    <tr>\n",
       "      <th>Meat (beef, without bones) - Retail</th>\n",
       "      <td>8923.5700</td>\n",
       "    </tr>\n",
       "    <tr>\n",
       "      <th>Ghee (natural) - Retail</th>\n",
       "      <td>8801.7991</td>\n",
       "    </tr>\n",
       "    <tr>\n",
       "      <th>Meat (beef) - Retail</th>\n",
       "      <td>3566.9525</td>\n",
       "    </tr>\n",
       "    <tr>\n",
       "      <th>Meat (chicken, frozen) - Retail</th>\n",
       "      <td>3069.1044</td>\n",
       "    </tr>\n",
       "    <tr>\n",
       "      <th>Oil (maize) - Retail</th>\n",
       "      <td>2453.3964</td>\n",
       "    </tr>\n",
       "    <tr>\n",
       "      <th>Beans (fava, dry) - Retail</th>\n",
       "      <td>2139.7984</td>\n",
       "    </tr>\n",
       "    <tr>\n",
       "      <th>Garlic - Retail</th>\n",
       "      <td>2006.5091</td>\n",
       "    </tr>\n",
       "    <tr>\n",
       "      <th>Lentils - Retail</th>\n",
       "      <td>1949.9915</td>\n",
       "    </tr>\n",
       "    <tr>\n",
       "      <th>Cheese - Retail</th>\n",
       "      <td>1670.6300</td>\n",
       "    </tr>\n",
       "    <tr>\n",
       "      <th>Oil (sunflower) - Retail</th>\n",
       "      <td>1552.7900</td>\n",
       "    </tr>\n",
       "    <tr>\n",
       "      <th>Oil (mixed) - Retail</th>\n",
       "      <td>1285.0100</td>\n",
       "    </tr>\n",
       "    <tr>\n",
       "      <th>Sugar - Retail</th>\n",
       "      <td>1200.4864</td>\n",
       "    </tr>\n",
       "    <tr>\n",
       "      <th>Rice - Retail</th>\n",
       "      <td>850.2659</td>\n",
       "    </tr>\n",
       "    <tr>\n",
       "      <th>Pasta - Retail</th>\n",
       "      <td>769.6584</td>\n",
       "    </tr>\n",
       "    <tr>\n",
       "      <th>Ghee (artificial) - Retail</th>\n",
       "      <td>729.8058</td>\n",
       "    </tr>\n",
       "    <tr>\n",
       "      <th>Wheat flour - Retail</th>\n",
       "      <td>706.3578</td>\n",
       "    </tr>\n",
       "    <tr>\n",
       "      <th>Potatoes - Retail</th>\n",
       "      <td>644.6484</td>\n",
       "    </tr>\n",
       "    <tr>\n",
       "      <th>Onions (red) - Retail</th>\n",
       "      <td>598.4152</td>\n",
       "    </tr>\n",
       "    <tr>\n",
       "      <th>Tomatoes - Retail</th>\n",
       "      <td>587.4964</td>\n",
       "    </tr>\n",
       "    <tr>\n",
       "      <th>Cheese (picon) - Retail</th>\n",
       "      <td>553.6600</td>\n",
       "    </tr>\n",
       "    <tr>\n",
       "      <th>Onions (white) - Retail</th>\n",
       "      <td>168.1955</td>\n",
       "    </tr>\n",
       "    <tr>\n",
       "      <th>Eggs - Retail</th>\n",
       "      <td>128.3680</td>\n",
       "    </tr>\n",
       "    <tr>\n",
       "      <th>Fish (tilapia) - Retail</th>\n",
       "      <td>68.0000</td>\n",
       "    </tr>\n",
       "    <tr>\n",
       "      <th>Milk - Retail</th>\n",
       "      <td>22.2900</td>\n",
       "    </tr>\n",
       "  </tbody>\n",
       "</table>\n",
       "</div>"
      ],
      "text/plain": [
       "                                           sum\n",
       "produce                                       \n",
       "Meat (beef, without bones) - Retail  8923.5700\n",
       "Ghee (natural) - Retail              8801.7991\n",
       "Meat (beef) - Retail                 3566.9525\n",
       "Meat (chicken, frozen) - Retail      3069.1044\n",
       "Oil (maize) - Retail                 2453.3964\n",
       "Beans (fava, dry) - Retail           2139.7984\n",
       "Garlic - Retail                      2006.5091\n",
       "Lentils - Retail                     1949.9915\n",
       "Cheese - Retail                      1670.6300\n",
       "Oil (sunflower) - Retail             1552.7900\n",
       "Oil (mixed) - Retail                 1285.0100\n",
       "Sugar - Retail                       1200.4864\n",
       "Rice - Retail                         850.2659\n",
       "Pasta - Retail                        769.6584\n",
       "Ghee (artificial) - Retail            729.8058\n",
       "Wheat flour - Retail                  706.3578\n",
       "Potatoes - Retail                     644.6484\n",
       "Onions (red) - Retail                 598.4152\n",
       "Tomatoes - Retail                     587.4964\n",
       "Cheese (picon) - Retail               553.6600\n",
       "Onions (white) - Retail               168.1955\n",
       "Eggs - Retail                         128.3680\n",
       "Fish (tilapia) - Retail                68.0000\n",
       "Milk - Retail                          22.2900"
      ]
     },
     "execution_count": 57,
     "metadata": {},
     "output_type": "execute_result"
    }
   ],
   "source": [
    "show_performing_produce()"
   ]
  },
  {
   "cell_type": "markdown",
   "id": "b13438c8-b398-4a6e-9453-23cd7fec9810",
   "metadata": {
    "tags": []
   },
   "source": [
    "# SHOW DISTRIBUTION OF PRODUCE IN USER DEFINED COUNTRY"
   ]
  },
  {
   "cell_type": "code",
   "execution_count": 53,
   "id": "ef8bb589-bf59-4a00-bbbd-c79a437f3ae6",
   "metadata": {
    "tags": []
   },
   "outputs": [],
   "source": [
    "def select_country():\n",
    "    print('Enter full name of only one country below to see the top and bottom 10 distribution of produce in that country.')\n",
    "    user_answer = input(\"Only enter one country here!!!: \").capitalize()\n",
    "    if user_answer in df.country.unique():\n",
    "        new_temp = df.groupby('country').get_group(user_answer).produce.value_counts()\n",
    "        \n",
    "        sns.set(palette= \"Set3\")\n",
    "        fig, ax = plt.subplots(1,2, figsize = (12,5))\n",
    "        plt.subplots_adjust(wspace = 0.5)\n",
    "        ax[0].set_title(f\"Top 10 products in {user_answer}\")\n",
    "        sns.barplot(x=new_temp.head(10), y = new_temp.head(10).index, ax = ax[0])\n",
    "        ax[1].set_title(f\"Bottom 10 products in {user_answer}\")\n",
    "        sns.barplot(x=new_temp.tail(10), y = new_temp.tail(10).index, ax = ax[1])\n",
    "        return plt.show()\n",
    "    else:\n",
    "        print(f\"Not Present in data. See list of recognzied country below\\n{df.country.unique()}\")\n",
    "        return"
   ]
  },
  {
   "cell_type": "code",
   "execution_count": 54,
   "id": "5a3642f2-dd3d-44d4-bcd9-f7422d320891",
   "metadata": {
    "tags": []
   },
   "outputs": [
    {
     "name": "stdout",
     "output_type": "stream",
     "text": [
      "Enter full name of only one country below to see the top and bottom 10 distribution of produce in that country.\n"
     ]
    },
    {
     "name": "stdin",
     "output_type": "stream",
     "text": [
      "Only enter one country here!!!:  niger\n"
     ]
    },
    {
     "data": {
      "image/png": "[encoded data removed]",
      "text/plain": [
       "<Figure size 1200x500 with 2 Axes>"
      ]
     },
     "metadata": {},
     "output_type": "display_data"
    }
   ],
   "source": [
    "select_country()"
   ]
  },
  {
   "cell_type": "code",
   "execution_count": 55,
   "id": "edc5924d-173e-404b-936c-d13336d8639f",
   "metadata": {},
   "outputs": [],
   "source": [
    "def visualize_price_performance():\n",
    "    print(\"This is to see the performance of product by price in selected country.\")\n",
    "    answer = input('Enter the correct spelling of only one country here!').capitalize()\n",
    "    if answer in df.country.unique():  \n",
    "        df_most_performing = df.groupby(['country','produce'])['price'].agg(['sum']).sort_values(by = 'sum', ascending = False)\n",
    "        show_this = df_most_performing.loc[answer].sort_values(by= 'sum', ascending = False)\n",
    "        colours = sns.color_palette('bright')[0:5]\n",
    "        plt.figure(figsize = (12,8))\n",
    "        plt.title(f\"Distribution of top seven produce by price perfomance in {answer}.\")\n",
    "        plt.pie(show_this['sum'].head(7), labels = show_this.head(7).index, colors = colours, autopct = '%1.1f%%');\n",
    "        return plt.show()\n",
    "    else:\n",
    "        print(f\"Not Present in data. See list of recognzied country below\\n{df.country.unique()}\")"
   ]
  },
  {
   "cell_type": "code",
   "execution_count": 58,
   "id": "3422ec50-5b33-4a49-82b8-ab147d87cec9",
   "metadata": {
    "tags": []
   },
   "outputs": [
    {
     "name": "stdout",
     "output_type": "stream",
     "text": [
      "This is to see the performance of product by price in selected country.\n"
     ]
    },
    {
     "name": "stdin",
     "output_type": "stream",
     "text": [
      "Enter the correct spelling of only one country here! egypt\n"
     ]
    },
    {
     "data": {
      "image/png": "[encoded data removed]",
      "text/plain": [
       "<Figure size 1200x800 with 1 Axes>"
      ]
     },
     "metadata": {},
     "output_type": "display_data"
    }
   ],
   "source": [
    "visualize_price_performance()"
   ]
  },
  {
   "cell_type": "markdown",
   "id": "b022883b-6cf6-44f6-80a8-1e6c49a7eff1",
   "metadata": {
    "tags": []
   },
   "source": [
    "SIGNED:\n",
    "    LAWAL KOLAWOLE OLURANTI"
   ]
  },
  {
   "cell_type": "code",
   "execution_count": null,
   "id": "c958f1d4-b001-4085-90ef-a33f39015092",
   "metadata": {},
   "outputs": [],
   "source": []
  }
 ],
 "metadata": {
  "kernelspec": {
   "display_name": "Python 3 (ipykernel)",
   "language": "python",
   "name": "python3"
  },
  "language_info": {
   "codemirror_mode": {
    "name": "ipython",
    "version": 3
   },
   "file_extension": ".py",
   "mimetype": "text/x-python",
   "name": "python",
   "nbconvert_exporter": "python",
   "pygments_lexer": "ipython3",
   "version": "3.11.5"
  },
  "toc-autonumbering": false,
  "toc-showcode": true
 },
 "nbformat": 4,
 "nbformat_minor": 5
}
